{
 "cells": [
  {
   "cell_type": "code",
   "execution_count": 4,
   "metadata": {
    "collapsed": true
   },
   "outputs": [],
   "source": [
    "import os\n",
    "import nltk\n",
    "import spacy"
   ]
  },
  {
   "cell_type": "markdown",
   "metadata": {},
   "source": [
    "https://github.com/abisee/cnn-dailymail"
   ]
  },
  {
   "cell_type": "code",
   "execution_count": 2,
   "metadata": {
    "collapsed": true
   },
   "outputs": [],
   "source": [
    "story = os.listdir(\"../data/CNN_DM/cnn_stories_tokenized/\")"
   ]
  },
  {
   "cell_type": "code",
   "execution_count": 3,
   "metadata": {
    "collapsed": false
   },
   "outputs": [
    {
     "data": {
      "text/plain": [
       "92579"
      ]
     },
     "execution_count": 3,
     "metadata": {},
     "output_type": "execute_result"
    }
   ],
   "source": [
    "len(story)"
   ]
  },
  {
   "cell_type": "code",
   "execution_count": null,
   "metadata": {
    "collapsed": true
   },
   "outputs": [],
   "source": [
    "# input : 800\n",
    "# output : 100\n",
    "# Entity, OOV 처리\n",
    "\n",
    "\n",
    "for s in story[:100]:\n",
    "    tt = open(\"../data/CNN_DM/cnn_stories_tokenized/\"+s).readlines()\n",
    "    tt = [t.replace(\"-LRB-\",\"\").replace(\"-RRB-\",\"\").replace(\"''\", '\"').replace(\"``\", '\" ').strip() for t in tt if t!=\"\\n\"]\n",
    "    paragraph=[]\n",
    "    summary=[]\n",
    "    flag=True\n",
    "    for i,t in enumerate(tt):\n",
    "        if t==\"@highlight\":\n",
    "            flag=False\n",
    "            summary.append(tt[i+1])\n",
    "        elif flag:\n",
    "            paragraph.append(t)\n",
    "    paragraph = \" \".join(paragraph)\n",
    "    \n",
    "    with open(\"train_data.txt\",\"a\",encoding=\"utf-8\") as f:\n",
    "        for su in summary:\n",
    "            f.write(paragraph+\"\\t\"+su+\"\\n\")"
   ]
  },
  {
   "cell_type": "markdown",
   "metadata": {},
   "source": [
    "### NER "
   ]
  },
  {
   "cell_type": "code",
   "execution_count": null,
   "metadata": {
    "collapsed": true
   },
   "outputs": [],
   "source": [
    "nlp = spacy.load('en')\n",
    "doc = nlp(news[-5][0])\n",
    "\n",
    "for ent in doc.ents:\n",
    "    print(ent.text, ent.start_char, ent.end_char, ent.label_)"
   ]
  }
 ],
 "metadata": {
  "kernelspec": {
   "display_name": "Python 3",
   "language": "python",
   "name": "python3"
  },
  "language_info": {
   "codemirror_mode": {
    "name": "ipython",
    "version": 3
   },
   "file_extension": ".py",
   "mimetype": "text/x-python",
   "name": "python",
   "nbconvert_exporter": "python",
   "pygments_lexer": "ipython3",
   "version": "3.5.2"
  }
 },
 "nbformat": 4,
 "nbformat_minor": 2
}
