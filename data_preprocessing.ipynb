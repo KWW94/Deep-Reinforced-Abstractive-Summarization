{
 "cells": [
  {
   "cell_type": "code",
   "execution_count": 23,
   "metadata": {
    "collapsed": true
   },
   "outputs": [],
   "source": [
    "import os"
   ]
  },
  {
   "cell_type": "markdown",
   "metadata": {},
   "source": [
    "https://github.com/abisee/cnn-dailymail"
   ]
  },
  {
   "cell_type": "code",
   "execution_count": 24,
   "metadata": {
    "collapsed": true
   },
   "outputs": [],
   "source": [
    "story = os.listdir(\"../data/CNN_DM/cnn_stories_tokenized/\")"
   ]
  },
  {
   "cell_type": "code",
   "execution_count": 25,
   "metadata": {
    "collapsed": false
   },
   "outputs": [
    {
     "data": {
      "text/plain": [
       "62908"
      ]
     },
     "execution_count": 25,
     "metadata": {},
     "output_type": "execute_result"
    }
   ],
   "source": [
    "len(story)"
   ]
  },
  {
   "cell_type": "code",
   "execution_count": 26,
   "metadata": {
    "collapsed": false
   },
   "outputs": [
    {
     "data": {
      "text/plain": [
       "'9d1a0bcdd6a24c02d878edd189e26f7c8feff26e.story'"
      ]
     },
     "execution_count": 26,
     "metadata": {},
     "output_type": "execute_result"
    }
   ],
   "source": [
    "story[0]"
   ]
  },
  {
   "cell_type": "code",
   "execution_count": 75,
   "metadata": {
    "collapsed": false
   },
   "outputs": [],
   "source": [
    "# input : 800\n",
    "# output : 100\n",
    "# Entity, OOV 처리\n",
    "\n",
    "\n",
    "for s in story[:100]:\n",
    "    tt = open(\"../data/CNN_DM/cnn_stories_tokenized/\"+s).readlines()\n",
    "    tt = [t.replace(\"-LRB-\",\"\").replace(\"-RRB-\",\"\").replace(\"''\", '\"').replace(\"``\", '\" ').strip() for t in tt if t!=\"\\n\"]\n",
    "    paragraph=[]\n",
    "    summary=[]\n",
    "    flag=True\n",
    "    for i,t in enumerate(tt):\n",
    "        if t==\"@highlight\":\n",
    "            flag=False\n",
    "            summary.append(tt[i+1])\n",
    "        elif flag:\n",
    "            paragraph.append(t)\n",
    "    paragraph = \" \".join(paragraph)\n",
    "    \n",
    "    with open(\"train_data.txt\",\"a\",encoding=\"utf-8\") as f:\n",
    "        for su in summary:\n",
    "            f.write(paragraph+\"\\t\"+su+\"\\n\")\n"
   ]
  },
  {
   "cell_type": "code",
   "execution_count": 76,
   "metadata": {
    "collapsed": true
   },
   "outputs": [],
   "source": [
    "import spacy"
   ]
  },
  {
   "cell_type": "markdown",
   "metadata": {},
   "source": [
    "python -m spacy download en"
   ]
  },
  {
   "cell_type": "code",
   "execution_count": 77,
   "metadata": {
    "collapsed": false
   },
   "outputs": [],
   "source": [
    "nlp = spacy.load('en')"
   ]
  },
  {
   "cell_type": "code",
   "execution_count": 80,
   "metadata": {
    "collapsed": false
   },
   "outputs": [],
   "source": [
    "doc = nlp(news[-5][0])"
   ]
  },
  {
   "cell_type": "code",
   "execution_count": 83,
   "metadata": {
    "collapsed": false
   },
   "outputs": [
    {
     "name": "stdout",
     "output_type": "stream",
     "text": [
      "CNN 0 3 ORG\n",
      "one 9 12 CARDINAL\n",
      "Loretta Lynch 50 63 PERSON\n",
      "Freddie Gray 182 194 PERSON\n",
      "25 197 199 CARDINAL\n",
      "Gray 202 206 PERSON\n",
      "last week 216 225 DATE\n",
      "touched off days 298 314 DATE\n",
      "Baltimore 342 351 GPE\n",
      "Lynch 354 359 PERSON\n",
      "Justice Department 456 474 ORG\n",
      "Baltimore 720 729 GPE\n",
      "Lynch 801 806 PERSON\n",
      "the Justice Department 881 903 ORG\n",
      "one 951 954 CARDINAL\n",
      "first 1079 1084 ORDINAL\n",
      "Baltimore 1136 1145 GPE\n",
      "the National Guard 1154 1172 ORG\n",
      "the days 1234 1242 DATE\n",
      "Baltimore 1292 1301 GPE\n",
      "Lynch 1383 1388 ORG\n",
      "hours 1401 1406 TIME\n",
      "Monday 1428 1434 DATE\n",
      "the Department of Justice 1479 1504 ORG\n",
      "the Baltimore Police Department 1697 1728 ORG\n",
      "The Baltimore Sun 1832 1849 ORG\n",
      "last fall 1860 1869 DATE\n",
      "$ 5.7 million 1894 1907 MONEY\n",
      "more than 100 1945 1958 CARDINAL\n",
      "2011 1972 1976 DATE\n",
      "Sun 2344 2347 LOC\n",
      "Lynch 2574 2579 PERSON\n",
      "Freddie Gray 2625 2637 PERSON\n",
      "the Justice Department 2644 2666 ORG\n",
      "Walter Scott 2729 2741 PERSON\n",
      "North Charleston 2745 2761 GPE\n",
      "South Carolina 2764 2778 GPE\n",
      "Lynch 2864 2869 PERSON\n",
      "Justice Department 2957 2975 ORG\n",
      "Community Oriented Policing Services 2991 3027 ORG\n",
      "2011 3042 3046 DATE\n",
      "COPS 3104 3108 ORG\n",
      "Baltimore 3174 3183 GPE\n",
      "one 3188 3191 CARDINAL\n",
      "eight 3199 3204 CARDINAL\n",
      "Lynch 3258 3263 PERSON\n",
      "the Violent Crime Control 3385 3410 ORG\n",
      "1994 3438 3442 DATE\n",
      "1991 3479 3483 DATE\n",
      "Rodney King 3513 3524 PERSON\n",
      "Los Angeles 3528 3539 GPE\n",
      "The Obama administration 3605 3629 ORG\n",
      "15 3657 3659 CARDINAL\n",
      "Clinton 3690 3697 PERSON\n",
      "Bush 3701 3705 PERSON\n",
      "11 3740 3742 CARDINAL\n",
      "Cleveland 3797 3806 GPE\n",
      "Miami 3809 3814 GPE\n",
      "Ferguson , 3821 3831 ORG\n",
      "Missouri 3832 3840 GPE\n",
      "the Marshall Project 3907 3927 ORG\n",
      "Washington 4044 4054 GPE\n",
      "Justice Department 4074 4092 ORG\n",
      "second 4161 4167 ORDINAL\n",
      "Simone Weichselbaum 4235 4254 PERSON\n",
      "Miami 4329 4334 GPE\n",
      "New Orleans 4337 4348 GPE\n",
      "New Jersey 4353 4363 GPE\n",
      "Justice Department 4434 4452 ORG\n",
      "Lynch 4535 4540 PERSON\n",
      "Title VI 4596 4604 ORG\n",
      "the Civil Rights Act 4608 4628 ORG\n",
      "1964 4632 4636 DATE\n",
      "Lynch 4736 4741 PERSON\n",
      "Eric Holder 4779 4790 PERSON\n",
      "2013 4846 4850 DATE\n",
      "Alamance County 4913 4928 GPE\n",
      "North Carolina 4931 4945 GPE\n",
      "Latinos 4997 5004 GPE\n",
      "Alamance County 5040 5055 GPE\n",
      "the Justice Department 5061 5083 ORG\n",
      "Lynch 5152 5157 PERSON\n",
      "Baltimore 5315 5324 GPE\n",
      "summer 5377 5383 DATE\n"
     ]
    }
   ],
   "source": [
    "for ent in doc.ents:\n",
    "    print(ent.text, ent.start_char, ent.end_char, ent.label_)"
   ]
  },
  {
   "cell_type": "code",
   "execution_count": 100,
   "metadata": {
    "collapsed": true
   },
   "outputs": [],
   "source": [
    "from torchtext.data import Field,BucketIterator\n",
    "from torchtext.data import TabularDataset"
   ]
  },
  {
   "cell_type": "code",
   "execution_count": 86,
   "metadata": {
    "collapsed": false
   },
   "outputs": [],
   "source": [
    "TEXT = Field(tokenize=nltk.word_tokenize,use_vocab=True,lower=True, include_lengths=True, batch_first=True) "
   ]
  },
  {
   "cell_type": "code",
   "execution_count": 89,
   "metadata": {
    "collapsed": false
   },
   "outputs": [],
   "source": [
    "train_data = TabularDataset(\n",
    "                                   path=\"train_data.txt\", # 데이터가 있는 root 경로\n",
    "                                   format='tsv', # \\t로 구분\n",
    "                                   fields=[('input',TEXT),('target',TEXT)])"
   ]
  },
  {
   "cell_type": "code",
   "execution_count": 90,
   "metadata": {
    "collapsed": true
   },
   "outputs": [],
   "source": [
    "one = train_data.examples[0]"
   ]
  },
  {
   "cell_type": "code",
   "execution_count": 96,
   "metadata": {
    "collapsed": true
   },
   "outputs": [],
   "source": [
    "TEXT.build_vocab(train_data)"
   ]
  },
  {
   "cell_type": "code",
   "execution_count": 97,
   "metadata": {
    "collapsed": true
   },
   "outputs": [],
   "source": [
    "train_loader = BucketIterator(train_data,batch_size=3, device=-1, # device -1 : cpu, device 0 : 남는 gpu\n",
    "    sort_key=lambda x: len(x.input),sort_within_batch=True,repeat=False) "
   ]
  },
  {
   "cell_type": "code",
   "execution_count": 98,
   "metadata": {
    "collapsed": false
   },
   "outputs": [],
   "source": [
    "for batch in train_loader:\n",
    "    break"
   ]
  },
  {
   "cell_type": "code",
   "execution_count": 99,
   "metadata": {
    "collapsed": false
   },
   "outputs": [
    {
     "data": {
      "text/plain": [
       "(Variable containing:\n",
       "   925    44    22  ...   1267    15     4\n",
       "   243    44    22  ...      1     1     1\n",
       "    44    22   869  ...      1     1     1\n",
       " [torch.LongTensor of size 3x1146], \n",
       "  1146\n",
       "  1130\n",
       "  1130\n",
       " [torch.LongTensor of size 3])"
      ]
     },
     "execution_count": 99,
     "metadata": {},
     "output_type": "execute_result"
    }
   ],
   "source": [
    "batch.input"
   ]
  },
  {
   "cell_type": "code",
   "execution_count": null,
   "metadata": {
    "collapsed": true
   },
   "outputs": [],
   "source": []
  }
 ],
 "metadata": {
  "kernelspec": {
   "display_name": "Python 3",
   "language": "python",
   "name": "python3"
  },
  "language_info": {
   "codemirror_mode": {
    "name": "ipython",
    "version": 3
   },
   "file_extension": ".py",
   "mimetype": "text/x-python",
   "name": "python",
   "nbconvert_exporter": "python",
   "pygments_lexer": "ipython3",
   "version": "3.5.2"
  }
 },
 "nbformat": 4,
 "nbformat_minor": 2
}
